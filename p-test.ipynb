{
 "cells": [
  {
   "attachments": {},
   "cell_type": "markdown",
   "metadata": {},
   "source": [
    "# Evaluate p-values on Atari100k test results for different algorithms\n",
    "Author: r.casesa\n",
    "\n",
    "The aim of this notebook is to compare different Reinforcement Learning algorithms against the Atari 100k benchmark and evaluate results from the paper \"Deep Reinforcement Learning at the Edge of the Statistical Precipice\".\n",
    "\n",
    "The mentioned paper shows how evaluating algorithms based on a few sample's mean or median often leads to uncorrect results and proposes alternative metrics for algorithm evaluation.\n",
    "We extend the treatment by including statistical tests. \n",
    "\n"
   ]
  },
  {
   "attachments": {},
   "cell_type": "markdown",
   "metadata": {},
   "source": [
    "For each algorithm we plot results and test for normality. In fact t-test can be performed only on normally distributed data.\n",
    "As the data appears to be non/normally distributed two approaches are tried out:\n",
    "1. Transform the resulting data using a log transformation. This makes sense in general as data is skewed towards higher values of returns\n",
    "2. Using tests which assume non normality.\n",
    "3. Bootstrap data\n"
   ]
  },
  {
   "attachments": {},
   "cell_type": "markdown",
   "metadata": {},
   "source": [
    "## Question points\n",
    "1. How do we handle non-normal data?\n",
    "2. How do we handle the fact that the comparison should be performed on multiple tasks (games)\n",
    "3. Which metric we can use?"
   ]
  },
  {
   "cell_type": "code",
   "execution_count": 1,
   "metadata": {},
   "outputs": [],
   "source": [
    "# Taken from stat_precipice\n",
    "\n",
    "from rliable import library as rly\n",
    "from rliable import metrics\n",
    "from rliable import plot_utils"
   ]
  },
  {
   "cell_type": "code",
   "execution_count": 2,
   "metadata": {},
   "outputs": [],
   "source": [
    "# Taken from stat_precipice\n",
    "\n",
    "# @title Imports\n",
    "import collections\n",
    "import numpy as np\n",
    "import matplotlib.patches as patches\n",
    "import sys\n",
    "import pickle\n",
    "import pandas as pd\n",
    "import copy\n",
    "import functools\n",
    "import json\n",
    "import os\n",
    "\n",
    "import itertools as it\n",
    "import random\n",
    "import inspect\n",
    "import scipy.stats\n",
    " \n",
    "import getpass\n",
    "import os.path as osp\n",
    " \n",
    "# See warnings only once\n",
    "import warnings\n",
    "warnings.filterwarnings('default')\n",
    " \n",
    "import inflection\n",
    "from functools import partial\n",
    "\n",
    "# The answer to life, universe and everything\n",
    "RAND_STATE = np.random.RandomState(42)\n",
    "\n",
    "import logging\n",
    "logger = logging.getLogger()\n",
    "logger.setLevel(logging.INFO)"
   ]
  },
  {
   "cell_type": "code",
   "execution_count": 3,
   "metadata": {},
   "outputs": [],
   "source": [
    "# Taken from stat_precipice\n",
    "\n",
    "#@title Plotting: Seaborn style and matplotlib params\n",
    "import matplotlib.pyplot as plt\n",
    "from matplotlib.ticker import PercentFormatter\n",
    "from matplotlib.ticker import MaxNLocator\n",
    "import matplotlib.patches as mpatches\n",
    "import seaborn as sns\n",
    "\n",
    "sns.set_style(\"white\")\n",
    "\n",
    "# Matplotlib params\n",
    "from matplotlib import rcParams\n",
    "from matplotlib import rc\n",
    "\n",
    "rcParams['legend.loc'] = 'best'\n",
    "rcParams['pdf.fonttype'] = 42\n",
    "rcParams['ps.fonttype'] = 42\n",
    "\n",
    "rc('text', usetex=False)"
   ]
  },
  {
   "cell_type": "code",
   "execution_count": 4,
   "metadata": {},
   "outputs": [],
   "source": [
    "# Taken from stat_precipice\n",
    "\n",
    "#@title Calculate Human AND Random scores\n",
    "\n",
    "# These are taken from the MuZero paper\n",
    "# Games Average-Human Random Agent57 R2D2 (Bandit) MuZero\n",
    "my_str=\"\"\"alien 7127.70 227.80 297638.17 ± 37054.55 464232.43 ± 7988.66 741812.63\n",
    "amidar 1719.50 5.80 29660.08 ± 880.39 31331.37 ± 817.79 28634.39\n",
    "assault 742.00 222.40 67212.67 ± 6150.59 110100.04 ± 346.06 143972.03\n",
    "asterix 8503.30 210.00 991384.42 ± 9493.32 999354.03 ± 12.94 998425.00\n",
    "asteroids 47388.70 719.10 150854.61 ± 16116.72 431072.45 ± 1799.13 6785558.64\n",
    "atlantis 29028.10 12850.00 1528841.76 ± 28282.53 1660721.85 ± 14643.83 1674767.20\n",
    "bank_heist 753.10 14.20 23071.50 ± 15834.73 27117.85 ± 963.12 1278.98\n",
    "battle_zone 37187.50 2360.00 934134.88 ± 38916.03 992600.31 ± 1096.19 848623.00\n",
    "beam_rider 16926.50 363.90 300509.80 ± 13075.35 390603.06 ± 23304.09 4549993.53\n",
    "berzerk 2630.40 123.70 61507.83 ± 26539.54 77725.62 ± 4556.93 85932.60\n",
    "bowling 160.70 23.10 251.18 ± 13.22 161.77 ± 99.84 260.13\n",
    "boxing 12.10 0.10 100.00 ± 0.00 100.00 ± 0.00 100.00\n",
    "breakout 30.50 1.70 790.40 ± 60.05 863.92 ± 0.08 864.00\n",
    "centipede 12017.00 2090.90 412847.86 ± 26087.14 908137.24 ± 7330.99 1159049.27\n",
    "chopper_command 7387.80 811.00 999900.00 ± 0.00 999900.00 ± 0.00 991039.70\n",
    "crazy_climber 35829.40 10780.50 565909.85 ± 89183.85 729482.83 ± 87975.74 458315.40\n",
    "defender 18688.90 2874.50 677642.78 ± 16858.59 730714.53 ± 715.54 839642.95\n",
    "demon_attack 1971.00 152.10 143161.44 ± 220.32 143913.32 ± 92.93 143964.26\n",
    "double_dunk -16.40 -18.60 23.93 ± 0.06 24.00 ± 0.00 23.94\n",
    "enduro 860.50 0.00 2367.71 ± 8.69 2378.66 ± 3.66 2382.44\n",
    "fishing_derby -38.70 -91.70 86.97 ± 3.25 90.34 ± 2.66 91.16\n",
    "freeway 29.60 0.00 32.59 ± 0.71 34.00 ± 0.00 33.03\n",
    "frostbite 4334.70 65.20 541280.88 ± 17485.76 309077.30 ± 274879.03 631378.53\n",
    "gopher 2412.50 257.60 117777.08 ± 3108.06 129736.13 ± 653.03 130345.58\n",
    "gravitar 3351.40 173.00 19213.96 ± 348.25 21068.03 ± 497.25 6682.70\n",
    "hero 30826.40 1027.00 114736.26 ± 49116.60 49339.62 ± 4617.76 49244.11\n",
    "ice_hockey 0.90 -11.20 63.64 ± 6.48 86.59 ± 0.59 67.04\n",
    "jamesbond 302.80 29.00 135784.96 ± 9132.28 158142.36 ± 904.45 41063.25\n",
    "kangaroo 3035.00 52.00 24034.16 ± 12565.88 18284.99 ± 817.25 16763.60\n",
    "krull 2665.50 1598.00 251997.31 ± 20274.39 245315.44 ± 48249.07 269358.27\n",
    "kung_fu_master 22736.30 258.50 206845.82 ± 11112.10 267766.63 ± 2895.73 204824.00\n",
    "montezuma_revenge 4753.30 0.00 9352.01 ± 2939.78 3000.00 ± 0.00 0.00\n",
    "ms_pacman 6951.60 307.30 63994.44 ± 6652.16 62595.90 ± 1755.82 243401.10\n",
    "name_this_game 8049.00 2292.30 54386.77 ± 6148.50 138030.67 ± 5279.91 157177.85\n",
    "phoenix 7242.60 761.40 908264.15 ± 28978.92 990638.12 ± 6278.77 955137.84\n",
    "pitfall 6463.70 -229.40 18756.01 ± 9783.91 0.00 ± 0.00 0.00\n",
    "pong 14.60 -20.70 20.67 ± 0.47 21.00 ± 0.00 21.00\n",
    "private_eye 69571.30 24.90 79716.46 ± 29515.48 40700.00 ± 0.00 15299.98\n",
    "qbert 13455.00 163.90 580328.14 ± 151251.66 777071.30 ± 190653.94 72276.00\n",
    "riverraid 17118.00 1338.50 63318.67 ± 5659.55 93569.66 ± 13308.08 323417.18\n",
    "road_runner 7845.00 11.50 243025.80 ± 79555.98 593186.78 ± 88650.69 613411.80\n",
    "robotank 11.90 2.20 127.32 ± 12.50 144.00 ± 0.00 131.13\n",
    "seaquest 42054.70 68.40 999997.63 ± 1.42 999999.00 ± 0.00 999976.52\n",
    "skiing -4336.90 -17098.10 -4202.60 ± 607.85 -3851.44 ± 517.52 -29968.36\n",
    "solaris 12326.70 1236.30 44199.93 ± 8055.50 67306.29 ± 10378.22 56.62\n",
    "space_invaders 1668.70 148.00 48680.86 ± 5894.01 67898.71 ± 1744.74 74335.30\n",
    "star_gunner 10250.00 664.00 839573.53 ± 67132.17 998600.28 ± 218.66 549271.70\n",
    "surround 6.50 -10.00 9.50 ± 0.19 10.00 ± 0.00 9.99\n",
    "tennis -8.30 -23.80 23.84 ± 0.10 24.00 ± 0.00 0.00\n",
    "time_pilot 5229.20 3568.00 405425.31 ± 17044.45 460596.49 ± 3139.33 476763.90\n",
    "tutankham 167.60 11.40 2354.91 ± 3421.43 483.78 ± 37.90 491.48\n",
    "up_n_down 11693.20 533.40 623805.73 ± 23493.75 702700.36 ± 8937.59 715545.61\n",
    "venture 1187.50 0.00 2623.71 ± 442.13 2258.93 ± 29.90 0.40\n",
    "video_pinball 17667.90 0.00 992340.74 ± 12867.87 999645.92 ± 57.93 981791.88\n",
    "wizard_of_wor 4756.50 563.50 157306.41 ± 16000.00 183090.81 ± 6070.10 197126.00\n",
    "yars_revenge 54576.90 3092.90 998532.37 ± 375.82 999807.02 ± 54.85 553311.46\n",
    "zaxxon 9173.30 32.50 249808.90 ± 58261.59 370649.03 ± 19761.32 725853.90\"\"\"\n",
    "\n",
    "\n",
    "scores = my_str.split('\\n')\n",
    "ALL_HUMAN_SCORES = {}\n",
    "ALL_RANDOM_SCORES = {}\n",
    "for sc in scores:\n",
    "  arr = sc.split(' ')\n",
    "  game = inflection.camelize(arr[0]) \n",
    "  ALL_RANDOM_SCORES[game] = float(arr[2])\n",
    "  ALL_HUMAN_SCORES[game] = float(arr[1])  \n",
    "\n",
    "_ = ALL_HUMAN_SCORES.pop('Surround')\n",
    "_ = ALL_HUMAN_SCORES.pop('Defender')"
   ]
  },
  {
   "cell_type": "code",
   "execution_count": 5,
   "metadata": {},
   "outputs": [],
   "source": [
    "# Taken from stat_precipice\n",
    "\n",
    "#@title Record scores on Atari games\n",
    "\n",
    "ALL_HUMAN_RECORD = {\n",
    "  'Alien': 251916.0,\n",
    "  'Amidar': 104159.0,\n",
    "  'Assault': 8647.0,\n",
    "  'Asterix': 1000000.0,\n",
    "  'Asteroids': 10506650.0,\n",
    "  'Atlantis': 10604840.0,\n",
    "  'BankHeist': 82058.0,\n",
    "  'BattleZone': 801000.0,\n",
    "  'BeamRider': 999999.0,\n",
    "  'Berzerk': 1057940.0,\n",
    "  'Bowling': 300.0,\n",
    "  'Boxing': 100.0,\n",
    "  'Breakout': 864.0,\n",
    "  'Centipede': 1301709.0,\n",
    "  'ChopperCommand': 999999.0,\n",
    "  'CrazyClimber': 219900.0,\n",
    "  'DemonAttack': 1556345.0,\n",
    "  'DoubleDunk': 22.0,\n",
    "  'Enduro': 9500.0,\n",
    "  'FishingDerby': 71.0,\n",
    "  'Freeway': 38.0,\n",
    "  'Frostbite': 454830.0,\n",
    "  'Gopher': 355040.0,\n",
    "  'Gravitar': 162850.0,\n",
    "  'Hero': 1000000.0,\n",
    "  'IceHockey': 36.0,\n",
    "  'Jamesbond': 45550.0,\n",
    "  'Kangaroo': 1424600.0,\n",
    "  'Krull': 104100.0,\n",
    "  'KungFuMaster': 1000000.0,\n",
    "  'MontezumaRevenge': 1219200.0,\n",
    "  'MsPacman': 290090.0,\n",
    "  'NameThisGame': 25220.0,\n",
    "  'Phoenix': 4014440.0,\n",
    "  'Pitfall': 114000.0,\n",
    "  'Pong': 21.0,\n",
    "  'PrivateEye': 101800.0,\n",
    "  'Qbert': 2400000.0,\n",
    "  'Riverraid': 1000000.0,\n",
    "  'RoadRunner': 2038100.0,\n",
    "  'Robotank': 76.0,\n",
    "  'Seaquest': 999999.0,\n",
    "  'Skiing': -3272.0,\n",
    "  'Solaris': 111420.0,\n",
    "  'SpaceInvaders': 621535.0,\n",
    "  'StarGunner': 77400.0,\n",
    "  'Tennis': 21.0,\n",
    "  'TimePilot': 65300.0,\n",
    "  'Tutankham': 5384.0,\n",
    "  'UpNDown': 82840.0,\n",
    "  'Venture': 38900.0,\n",
    "  'VideoPinball': 89218328.0,\n",
    "  'WizardOfWor': 395300.0,\n",
    "  'YarsRevenge': 15000105.0,\n",
    "  'Zaxxon': 83700.0,\n",
    "  'AirRaid': 23050.0,\n",
    "  'Carnival': 2541440.0,\n",
    "  'ElevatorAction': 156550.0,\n",
    "  'JourneyEscape': -4317804.0,\n",
    "  'Pooyan': 13025.0\n",
    "}"
   ]
  },
  {
   "cell_type": "code",
   "execution_count": 6,
   "metadata": {},
   "outputs": [],
   "source": [
    "# Taken from stat_precipice\n",
    "\n",
    "def score_normalization_all_atari(res_dict, record_scores=False):\n",
    "  games = res_dict.keys()\n",
    "  norm_baseline = ALL_HUMAN_RECORD if record_scores else ALL_HUMAN_SCORES \n",
    "  norm_scores = {}\n",
    "  for game, scores in res_dict.items():\n",
    "    if (game in ALL_HUMAN_SCORES):\n",
    "      norm_scores[game] = (scores - ALL_RANDOM_SCORES[game])/(norm_baseline[game] - ALL_RANDOM_SCORES[game])\n",
    "  return norm_scores\n",
    "\n",
    "def normalized_scores(res_dict, record_scores=False):\n",
    "  scores = score_normalization_all_atari(\n",
    "      res_dict, record_scores=record_scores)\n",
    "  return convert_to_matrix(scores)\n",
    "  \n",
    "def convert_to_matrix(x):\n",
    "  return np.stack([x[k] for k in sorted(x.keys())], axis=-1)"
   ]
  },
  {
   "cell_type": "code",
   "execution_count": 7,
   "metadata": {},
   "outputs": [],
   "source": [
    "# Taken from stat_precipice\n",
    "\n",
    "# Scores at final iteration\n",
    "with open('ALE/atari_200m_scores.npy', 'rb') as f:\n",
    "  atari_200m_scores = np.load(f, allow_pickle=True)\n",
    "  atari_200m_scores = atari_200m_scores.tolist()\n",
    "\n",
    "atari_200m_scores_norm_mat = {key: normalized_scores(val, record_scores=False)\n",
    "                              for key, val in atari_200m_scores.items()}\n",
    "atari_200m_scores_norm_record_mat = {key: normalized_scores(val, record_scores=True)\n",
    "                                     for key, val in atari_200m_scores.items()}\n",
    "\n",
    "# Scores at all 200 iterations\n",
    "\n",
    "with open('ALE/atari_200_iters_scores.npy', 'rb') as f:\n",
    "  atari_200m_iter_scores = np.load(f, allow_pickle=True)\n",
    "  atari_200m_iter_scores = atari_200m_iter_scores.tolist()\n",
    "\n",
    "atari_200m_iter_scores_norm = {key: normalized_scores(val, record_scores=False)\n",
    "                              for key, val in atari_200m_iter_scores.items()}                                  \n",
    "for key, val in atari_200m_iter_scores_norm.items():\n",
    "  atari_200m_iter_scores_norm[key] = np.transpose(val, axes=(1, 2, 0))\n",
    "  "
   ]
  },
  {
   "cell_type": "code",
   "execution_count": 8,
   "metadata": {},
   "outputs": [
    {
     "data": {
      "text/plain": [
       "array([[ 9.29319101e-03,  3.56145148e-02,  4.60113365e-02, ...,\n",
       "         2.66261650e-01,  2.70377178e-01,  2.75402832e-01],\n",
       "       [ 5.03082997e-03,  2.50666253e-02,  2.26465397e-02, ...,\n",
       "         9.63396572e-01,  8.49138204e-01,  8.98141488e-01],\n",
       "       [ 2.94476598e-02,  2.07858760e-01,  4.41393411e-01, ...,\n",
       "         2.62482493e+00,  2.61255564e+00,  2.63483606e+00],\n",
       "       ...,\n",
       "       [-7.44295564e-03, -8.01356047e-02, -6.14501749e-02, ...,\n",
       "         7.76328176e-01,  6.67369432e-01,  6.90041031e-01],\n",
       "       [ 1.07078910e-02,  2.28314713e-02,  2.30614901e-02, ...,\n",
       "         3.78485731e-01,  3.75808018e-01,  3.79290175e-01],\n",
       "       [ 7.70742455e-03, -4.18580895e-04,  3.93956967e-04, ...,\n",
       "         4.23925564e-01,  4.41857219e-01,  4.49901696e-01]])"
      ]
     },
     "execution_count": 8,
     "metadata": {},
     "output_type": "execute_result"
    }
   ],
   "source": [
    "atari_200m_scores_norm_mat_df = pd.DataFrame(atari_200m_scores)\n",
    "atari_200m_scores_norm_mat_df.loc[:, 'DQN (Nature)']\n",
    "\n",
    "atari_200m_iter_scores_norm['DQN (Nature)'][0]\n"
   ]
  },
  {
   "cell_type": "code",
   "execution_count": 11,
   "metadata": {},
   "outputs": [],
   "source": [
    "from scipy import stats\n",
    "import matplotlib.pyplot as plt"
   ]
  },
  {
   "cell_type": "code",
   "execution_count": 10,
   "metadata": {},
   "outputs": [
    {
     "data": {
      "text/plain": [
       "array([4498.79052734, 3609.01416016, 3162.13330078, 3519.21435547,\n",
       "       3262.39990234])"
      ]
     },
     "execution_count": 10,
     "metadata": {},
     "output_type": "execute_result"
    }
   ],
   "source": [
    "atari_200m_scores_norm_mat_df.loc['Alien', 'DQN (Nature)']\n",
    "atari_200m_scores_norm_mat_df.loc['Alien', 'Rainbow']"
   ]
  },
  {
   "cell_type": "code",
   "execution_count": 25,
   "metadata": {},
   "outputs": [
    {
     "name": "stderr",
     "output_type": "stream",
     "text": [
      "/tmp/ipykernel_18897/1193117374.py:4: RuntimeWarning: invalid value encountered in log\n",
      "  plt.hist(np.log(at+0.001), bins = 20)\n"
     ]
    },
    {
     "data": {
      "text/plain": [
       "(array([3.0000e+00, 2.0000e+00, 8.0000e+00, 2.7000e+01, 5.8000e+01,\n",
       "        1.1700e+02, 1.8180e+03, 7.6000e+02, 1.0410e+03, 1.3620e+03,\n",
       "        3.0090e+03, 2.6300e+03, 3.3560e+03, 8.8440e+03, 1.1401e+04,\n",
       "        6.2250e+03, 7.9500e+03, 2.1210e+03, 5.1000e+01, 7.2900e+02]),\n",
       " array([-12.24465444, -11.42975967, -10.6148649 ,  -9.79997013,\n",
       "         -8.98507536,  -8.17018059,  -7.35528582,  -6.54039105,\n",
       "         -5.72549628,  -4.91060151,  -4.09570674,  -3.28081197,\n",
       "         -2.4659172 ,  -1.65102243,  -0.83612766,  -0.02123289,\n",
       "          0.79366188,   1.60855665,   2.42345142,   3.23834619,\n",
       "          4.05324096]),\n",
       " <BarContainer object of 20 artists>)"
      ]
     },
     "execution_count": 25,
     "metadata": {},
     "output_type": "execute_result"
    },
    {
     "data": {
      "image/png": "[encoded data removed]",
      "text/plain": [
       "<Figure size 640x480 with 1 Axes>"
      ]
     },
     "metadata": {},
     "output_type": "display_data"
    }
   ],
   "source": [
    "at = np.reshape(atari_200m_iter_scores_norm['Rainbow'], (-1))\n",
    "at = np.reshape(atari_200m_iter_scores_norm['DQN (Nature)'], (-1))\n",
    "\n",
    "plt.hist(np.log(at+0.001), bins = 20)"
   ]
  },
  {
   "cell_type": "code",
   "execution_count": null,
   "metadata": {},
   "outputs": [],
   "source": []
  }
 ],
 "metadata": {
  "kernelspec": {
   "display_name": "RL2-pyenv",
   "language": "python",
   "name": "python3"
  },
  "language_info": {
   "codemirror_mode": {
    "name": "ipython",
    "version": 3
   },
   "file_extension": ".py",
   "mimetype": "text/x-python",
   "name": "python",
   "nbconvert_exporter": "python",
   "pygments_lexer": "ipython3",
   "version": "3.10.6 (main, Nov 14 2022, 16:10:14) [GCC 11.3.0]"
  },
  "orig_nbformat": 4,
  "vscode": {
   "interpreter": {
    "hash": "d65a83d252ba7a57ec4eb33219debb9c82470884ae2fcf795e5927f3257f1bdd"
   }
  }
 },
 "nbformat": 4,
 "nbformat_minor": 2
}
